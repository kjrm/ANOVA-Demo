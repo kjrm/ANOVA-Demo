{
 "cells": [
  {
   "cell_type": "markdown",
   "metadata": {},
   "source": [
    "# ANOVA Demonstration"
   ]
  },
  {
   "cell_type": "markdown",
   "metadata": {},
   "source": [
    "When you are testing how one or more `categorical` explanatory variables impact a `quantitative` response variable,    \n",
    "the tool you should use is `Analysis of Variance (ANOVA)`    \n",
    "   \n",
    "`Null hypothesis` (H<sub>0</sub>): There is no association between the explanatory variable(s) and the response variable   \n",
    "(H<sub>0</sub>): $\\mu$<sub>1</sub> = ... = $\\mu$<sub>k</sub>  \n",
    "(H<sub>a</sub>): not all the $\\mu$ are equal  \n",
    "where $\\mu$<sub>i</sub> is mean of the _i<sup>th</sup>_ category-value, and there are _k_ category-values in total\n",
    "\n",
    "We want to be able to reject the Null Hypothesis in a statistically significant way"
   ]
  },
  {
   "cell_type": "markdown",
   "metadata": {},
   "source": [
    "In this exercise, we explore the things that may influence the number of cigarettes smoked per month."
   ]
  },
  {
   "cell_type": "markdown",
   "metadata": {},
   "source": [
    "The dataset used is from the `National Epidemiologic Survey of Drug Use and Health (2001-2002)`  \n",
    "This lesson is an adaptation of the `Data Analysis Tools` online course provided by Wesleyan University on Coursera.org"
   ]
  },
  {
   "cell_type": "markdown",
   "metadata": {},
   "source": [
    "#### Import packages"
   ]
  },
  {
   "cell_type": "code",
   "execution_count": 1,
   "metadata": {},
   "outputs": [],
   "source": [
    "import numpy as np\n",
    "import pandas as pd\n",
    "import statsmodels.formula.api as smf\n",
    "pd.options.mode.chained_assignment = None\n",
    "%matplotlib inline"
   ]
  },
  {
   "cell_type": "markdown",
   "metadata": {},
   "source": [
    "#### Load Data"
   ]
  },
  {
   "cell_type": "code",
   "execution_count": 2,
   "metadata": {},
   "outputs": [
    {
     "data": {
      "text/plain": [
       "ETHRACE2A     int64\n",
       "ETOTLCA2     object\n",
       "IDNUM         int64\n",
       "PSU           int64\n",
       "STRATUM       int64\n",
       "dtype: object"
      ]
     },
     "execution_count": 2,
     "metadata": {},
     "output_type": "execute_result"
    }
   ],
   "source": [
    "data = pd.read_csv('nesarc_pds.csv', low_memory=False)\n",
    "data.dtypes.head()"
   ]
  },
  {
   "cell_type": "code",
   "execution_count": 3,
   "metadata": {},
   "outputs": [
    {
     "data": {
      "text/html": [
       "<div>\n",
       "<style scoped>\n",
       "    .dataframe tbody tr th:only-of-type {\n",
       "        vertical-align: middle;\n",
       "    }\n",
       "\n",
       "    .dataframe tbody tr th {\n",
       "        vertical-align: top;\n",
       "    }\n",
       "\n",
       "    .dataframe thead th {\n",
       "        text-align: right;\n",
       "    }\n",
       "</style>\n",
       "<table border=\"1\" class=\"dataframe\">\n",
       "  <thead>\n",
       "    <tr style=\"text-align: right;\">\n",
       "      <th></th>\n",
       "      <th>ETHRACE2A</th>\n",
       "      <th>ETOTLCA2</th>\n",
       "      <th>IDNUM</th>\n",
       "      <th>PSU</th>\n",
       "      <th>STRATUM</th>\n",
       "      <th>WEIGHT</th>\n",
       "      <th>CDAY</th>\n",
       "      <th>CMON</th>\n",
       "      <th>CYEAR</th>\n",
       "      <th>REGION</th>\n",
       "      <th>...</th>\n",
       "      <th>SOL12ABDEP</th>\n",
       "      <th>SOLP12ABDEP</th>\n",
       "      <th>HAL12ABDEP</th>\n",
       "      <th>HALP12ABDEP</th>\n",
       "      <th>MAR12ABDEP</th>\n",
       "      <th>MARP12ABDEP</th>\n",
       "      <th>HER12ABDEP</th>\n",
       "      <th>HERP12ABDEP</th>\n",
       "      <th>OTHB12ABDEP</th>\n",
       "      <th>OTHBP12ABDEP</th>\n",
       "    </tr>\n",
       "  </thead>\n",
       "  <tbody>\n",
       "    <tr>\n",
       "      <th>0</th>\n",
       "      <td>5</td>\n",
       "      <td></td>\n",
       "      <td>1</td>\n",
       "      <td>4007</td>\n",
       "      <td>403</td>\n",
       "      <td>3928.613505</td>\n",
       "      <td>14</td>\n",
       "      <td>8</td>\n",
       "      <td>2001</td>\n",
       "      <td>4</td>\n",
       "      <td>...</td>\n",
       "      <td>0</td>\n",
       "      <td>0</td>\n",
       "      <td>0</td>\n",
       "      <td>0</td>\n",
       "      <td>0</td>\n",
       "      <td>0</td>\n",
       "      <td>0</td>\n",
       "      <td>0</td>\n",
       "      <td>0</td>\n",
       "      <td>0</td>\n",
       "    </tr>\n",
       "    <tr>\n",
       "      <th>1</th>\n",
       "      <td>5</td>\n",
       "      <td>0.0014</td>\n",
       "      <td>2</td>\n",
       "      <td>6045</td>\n",
       "      <td>604</td>\n",
       "      <td>3638.691845</td>\n",
       "      <td>12</td>\n",
       "      <td>1</td>\n",
       "      <td>2002</td>\n",
       "      <td>4</td>\n",
       "      <td>...</td>\n",
       "      <td>0</td>\n",
       "      <td>0</td>\n",
       "      <td>0</td>\n",
       "      <td>0</td>\n",
       "      <td>0</td>\n",
       "      <td>0</td>\n",
       "      <td>0</td>\n",
       "      <td>0</td>\n",
       "      <td>0</td>\n",
       "      <td>0</td>\n",
       "    </tr>\n",
       "    <tr>\n",
       "      <th>2</th>\n",
       "      <td>5</td>\n",
       "      <td></td>\n",
       "      <td>3</td>\n",
       "      <td>12042</td>\n",
       "      <td>1218</td>\n",
       "      <td>5779.032025</td>\n",
       "      <td>23</td>\n",
       "      <td>11</td>\n",
       "      <td>2001</td>\n",
       "      <td>3</td>\n",
       "      <td>...</td>\n",
       "      <td>0</td>\n",
       "      <td>0</td>\n",
       "      <td>0</td>\n",
       "      <td>0</td>\n",
       "      <td>0</td>\n",
       "      <td>0</td>\n",
       "      <td>0</td>\n",
       "      <td>0</td>\n",
       "      <td>0</td>\n",
       "      <td>0</td>\n",
       "    </tr>\n",
       "    <tr>\n",
       "      <th>3</th>\n",
       "      <td>5</td>\n",
       "      <td></td>\n",
       "      <td>4</td>\n",
       "      <td>17099</td>\n",
       "      <td>1704</td>\n",
       "      <td>1071.754303</td>\n",
       "      <td>9</td>\n",
       "      <td>9</td>\n",
       "      <td>2001</td>\n",
       "      <td>2</td>\n",
       "      <td>...</td>\n",
       "      <td>0</td>\n",
       "      <td>0</td>\n",
       "      <td>0</td>\n",
       "      <td>0</td>\n",
       "      <td>0</td>\n",
       "      <td>0</td>\n",
       "      <td>0</td>\n",
       "      <td>0</td>\n",
       "      <td>0</td>\n",
       "      <td>0</td>\n",
       "    </tr>\n",
       "    <tr>\n",
       "      <th>4</th>\n",
       "      <td>2</td>\n",
       "      <td></td>\n",
       "      <td>5</td>\n",
       "      <td>17099</td>\n",
       "      <td>1704</td>\n",
       "      <td>4986.952377</td>\n",
       "      <td>18</td>\n",
       "      <td>10</td>\n",
       "      <td>2001</td>\n",
       "      <td>2</td>\n",
       "      <td>...</td>\n",
       "      <td>0</td>\n",
       "      <td>0</td>\n",
       "      <td>0</td>\n",
       "      <td>0</td>\n",
       "      <td>0</td>\n",
       "      <td>0</td>\n",
       "      <td>0</td>\n",
       "      <td>0</td>\n",
       "      <td>0</td>\n",
       "      <td>0</td>\n",
       "    </tr>\n",
       "  </tbody>\n",
       "</table>\n",
       "<p>5 rows × 3008 columns</p>\n",
       "</div>"
      ],
      "text/plain": [
       "   ETHRACE2A ETOTLCA2  IDNUM    PSU  STRATUM       WEIGHT  CDAY  CMON  CYEAR  \\\n",
       "0          5               1   4007      403  3928.613505    14     8   2001   \n",
       "1          5   0.0014      2   6045      604  3638.691845    12     1   2002   \n",
       "2          5               3  12042     1218  5779.032025    23    11   2001   \n",
       "3          5               4  17099     1704  1071.754303     9     9   2001   \n",
       "4          2               5  17099     1704  4986.952377    18    10   2001   \n",
       "\n",
       "   REGION  ...  SOL12ABDEP  SOLP12ABDEP  HAL12ABDEP  HALP12ABDEP  MAR12ABDEP  \\\n",
       "0       4  ...           0            0           0            0           0   \n",
       "1       4  ...           0            0           0            0           0   \n",
       "2       3  ...           0            0           0            0           0   \n",
       "3       2  ...           0            0           0            0           0   \n",
       "4       2  ...           0            0           0            0           0   \n",
       "\n",
       "   MARP12ABDEP  HER12ABDEP  HERP12ABDEP  OTHB12ABDEP  OTHBP12ABDEP  \n",
       "0            0           0            0            0             0  \n",
       "1            0           0            0            0             0  \n",
       "2            0           0            0            0             0  \n",
       "3            0           0            0            0             0  \n",
       "4            0           0            0            0             0  \n",
       "\n",
       "[5 rows x 3008 columns]"
      ]
     },
     "execution_count": 3,
     "metadata": {},
     "output_type": "execute_result"
    }
   ],
   "source": [
    "data.head()"
   ]
  },
  {
   "cell_type": "markdown",
   "metadata": {},
   "source": [
    "Some of the features are of the type `object` when they should be `int64` or `float64`.   \n",
    "Therefore, we will change the ones we are going to use to numeric."
   ]
  },
  {
   "cell_type": "markdown",
   "metadata": {},
   "source": [
    "We are going to use the following variables for the first analysis...  \n",
    "`S3AQ3B1` - \"USUAL FREQUENCY WHEN SMOKED CIGARETTES\"   \n",
    "`S3AQ3C1` - \"USUAL QUANTITY WHEN SMOKED CIGARETTES\"   \n",
    "`CHECK321` - \"CIGARETTE SMOKING STATUS\""
   ]
  },
  {
   "cell_type": "code",
   "execution_count": 4,
   "metadata": {},
   "outputs": [],
   "source": [
    "data['S3AQ3B1'] = pd.to_numeric(data[\"S3AQ3B1\"], errors='coerce')\n",
    "data['S3AQ3C1'] = pd.to_numeric(data[\"S3AQ3C1\"], errors='coerce')\n",
    "data['CHECK321'] = pd.to_numeric(data[\"CHECK321\"], errors='coerce')"
   ]
  },
  {
   "cell_type": "code",
   "execution_count": 5,
   "metadata": {},
   "outputs": [
    {
     "data": {
      "text/html": [
       "<div>\n",
       "<style scoped>\n",
       "    .dataframe tbody tr th:only-of-type {\n",
       "        vertical-align: middle;\n",
       "    }\n",
       "\n",
       "    .dataframe tbody tr th {\n",
       "        vertical-align: top;\n",
       "    }\n",
       "\n",
       "    .dataframe thead th {\n",
       "        text-align: right;\n",
       "    }\n",
       "</style>\n",
       "<table border=\"1\" class=\"dataframe\">\n",
       "  <thead>\n",
       "    <tr style=\"text-align: right;\">\n",
       "      <th></th>\n",
       "      <th>S3AQ3B1</th>\n",
       "      <th>S3AQ3C1</th>\n",
       "      <th>CHECK321</th>\n",
       "    </tr>\n",
       "  </thead>\n",
       "  <tbody>\n",
       "    <tr>\n",
       "      <th>0</th>\n",
       "      <td>NaN</td>\n",
       "      <td>NaN</td>\n",
       "      <td>NaN</td>\n",
       "    </tr>\n",
       "    <tr>\n",
       "      <th>1</th>\n",
       "      <td>NaN</td>\n",
       "      <td>NaN</td>\n",
       "      <td>NaN</td>\n",
       "    </tr>\n",
       "    <tr>\n",
       "      <th>2</th>\n",
       "      <td>NaN</td>\n",
       "      <td>NaN</td>\n",
       "      <td>NaN</td>\n",
       "    </tr>\n",
       "    <tr>\n",
       "      <th>3</th>\n",
       "      <td>NaN</td>\n",
       "      <td>NaN</td>\n",
       "      <td>NaN</td>\n",
       "    </tr>\n",
       "    <tr>\n",
       "      <th>4</th>\n",
       "      <td>NaN</td>\n",
       "      <td>NaN</td>\n",
       "      <td>NaN</td>\n",
       "    </tr>\n",
       "  </tbody>\n",
       "</table>\n",
       "</div>"
      ],
      "text/plain": [
       "   S3AQ3B1  S3AQ3C1  CHECK321\n",
       "0      NaN      NaN       NaN\n",
       "1      NaN      NaN       NaN\n",
       "2      NaN      NaN       NaN\n",
       "3      NaN      NaN       NaN\n",
       "4      NaN      NaN       NaN"
      ]
     },
     "execution_count": 5,
     "metadata": {},
     "output_type": "execute_result"
    }
   ],
   "source": [
    "data[['S3AQ3B1', 'S3AQ3C1', 'CHECK321']].head()"
   ]
  },
  {
   "cell_type": "markdown",
   "metadata": {},
   "source": [
    "We want to select only those respondents who are between 18 and 25 years old, and who have smoked in the last year  "
   ]
  },
  {
   "cell_type": "code",
   "execution_count": 6,
   "metadata": {},
   "outputs": [
    {
     "data": {
      "text/html": [
       "<div>\n",
       "<style scoped>\n",
       "    .dataframe tbody tr th:only-of-type {\n",
       "        vertical-align: middle;\n",
       "    }\n",
       "\n",
       "    .dataframe tbody tr th {\n",
       "        vertical-align: top;\n",
       "    }\n",
       "\n",
       "    .dataframe thead th {\n",
       "        text-align: right;\n",
       "    }\n",
       "</style>\n",
       "<table border=\"1\" class=\"dataframe\">\n",
       "  <thead>\n",
       "    <tr style=\"text-align: right;\">\n",
       "      <th></th>\n",
       "      <th>ETHRACE2A</th>\n",
       "      <th>ETOTLCA2</th>\n",
       "      <th>IDNUM</th>\n",
       "      <th>PSU</th>\n",
       "      <th>STRATUM</th>\n",
       "      <th>WEIGHT</th>\n",
       "      <th>CDAY</th>\n",
       "      <th>CMON</th>\n",
       "      <th>CYEAR</th>\n",
       "      <th>REGION</th>\n",
       "      <th>...</th>\n",
       "      <th>SOL12ABDEP</th>\n",
       "      <th>SOLP12ABDEP</th>\n",
       "      <th>HAL12ABDEP</th>\n",
       "      <th>HALP12ABDEP</th>\n",
       "      <th>MAR12ABDEP</th>\n",
       "      <th>MARP12ABDEP</th>\n",
       "      <th>HER12ABDEP</th>\n",
       "      <th>HERP12ABDEP</th>\n",
       "      <th>OTHB12ABDEP</th>\n",
       "      <th>OTHBP12ABDEP</th>\n",
       "    </tr>\n",
       "  </thead>\n",
       "  <tbody>\n",
       "    <tr>\n",
       "      <th>20</th>\n",
       "      <td>2</td>\n",
       "      <td>0.0099</td>\n",
       "      <td>21</td>\n",
       "      <td>36094</td>\n",
       "      <td>3616</td>\n",
       "      <td>1528.354757</td>\n",
       "      <td>2</td>\n",
       "      <td>11</td>\n",
       "      <td>2001</td>\n",
       "      <td>1</td>\n",
       "      <td>...</td>\n",
       "      <td>0</td>\n",
       "      <td>0</td>\n",
       "      <td>0</td>\n",
       "      <td>0</td>\n",
       "      <td>0</td>\n",
       "      <td>0</td>\n",
       "      <td>0</td>\n",
       "      <td>0</td>\n",
       "      <td>0</td>\n",
       "      <td>0</td>\n",
       "    </tr>\n",
       "    <tr>\n",
       "      <th>76</th>\n",
       "      <td>5</td>\n",
       "      <td>0.2643</td>\n",
       "      <td>77</td>\n",
       "      <td>36094</td>\n",
       "      <td>3616</td>\n",
       "      <td>6172.249980</td>\n",
       "      <td>13</td>\n",
       "      <td>3</td>\n",
       "      <td>2002</td>\n",
       "      <td>1</td>\n",
       "      <td>...</td>\n",
       "      <td>0</td>\n",
       "      <td>0</td>\n",
       "      <td>0</td>\n",
       "      <td>0</td>\n",
       "      <td>0</td>\n",
       "      <td>0</td>\n",
       "      <td>0</td>\n",
       "      <td>0</td>\n",
       "      <td>0</td>\n",
       "      <td>0</td>\n",
       "    </tr>\n",
       "    <tr>\n",
       "      <th>102</th>\n",
       "      <td>1</td>\n",
       "      <td>0.985</td>\n",
       "      <td>103</td>\n",
       "      <td>41097</td>\n",
       "      <td>4107</td>\n",
       "      <td>5515.974591</td>\n",
       "      <td>27</td>\n",
       "      <td>10</td>\n",
       "      <td>2001</td>\n",
       "      <td>4</td>\n",
       "      <td>...</td>\n",
       "      <td>0</td>\n",
       "      <td>0</td>\n",
       "      <td>0</td>\n",
       "      <td>1</td>\n",
       "      <td>0</td>\n",
       "      <td>1</td>\n",
       "      <td>0</td>\n",
       "      <td>0</td>\n",
       "      <td>0</td>\n",
       "      <td>0</td>\n",
       "    </tr>\n",
       "    <tr>\n",
       "      <th>121</th>\n",
       "      <td>1</td>\n",
       "      <td>0.8888</td>\n",
       "      <td>122</td>\n",
       "      <td>31098</td>\n",
       "      <td>3109</td>\n",
       "      <td>4152.434010</td>\n",
       "      <td>23</td>\n",
       "      <td>9</td>\n",
       "      <td>2001</td>\n",
       "      <td>2</td>\n",
       "      <td>...</td>\n",
       "      <td>0</td>\n",
       "      <td>0</td>\n",
       "      <td>0</td>\n",
       "      <td>0</td>\n",
       "      <td>0</td>\n",
       "      <td>0</td>\n",
       "      <td>0</td>\n",
       "      <td>0</td>\n",
       "      <td>0</td>\n",
       "      <td>0</td>\n",
       "    </tr>\n",
       "    <tr>\n",
       "      <th>135</th>\n",
       "      <td>1</td>\n",
       "      <td>0.017</td>\n",
       "      <td>136</td>\n",
       "      <td>12042</td>\n",
       "      <td>1218</td>\n",
       "      <td>8657.814391</td>\n",
       "      <td>11</td>\n",
       "      <td>12</td>\n",
       "      <td>2001</td>\n",
       "      <td>3</td>\n",
       "      <td>...</td>\n",
       "      <td>0</td>\n",
       "      <td>0</td>\n",
       "      <td>0</td>\n",
       "      <td>0</td>\n",
       "      <td>0</td>\n",
       "      <td>1</td>\n",
       "      <td>0</td>\n",
       "      <td>0</td>\n",
       "      <td>0</td>\n",
       "      <td>0</td>\n",
       "    </tr>\n",
       "  </tbody>\n",
       "</table>\n",
       "<p>5 rows × 3008 columns</p>\n",
       "</div>"
      ],
      "text/plain": [
       "     ETHRACE2A ETOTLCA2  IDNUM    PSU  STRATUM       WEIGHT  CDAY  CMON  \\\n",
       "20           2   0.0099     21  36094     3616  1528.354757     2    11   \n",
       "76           5   0.2643     77  36094     3616  6172.249980    13     3   \n",
       "102          1    0.985    103  41097     4107  5515.974591    27    10   \n",
       "121          1   0.8888    122  31098     3109  4152.434010    23     9   \n",
       "135          1    0.017    136  12042     1218  8657.814391    11    12   \n",
       "\n",
       "     CYEAR  REGION  ...  SOL12ABDEP  SOLP12ABDEP  HAL12ABDEP  HALP12ABDEP  \\\n",
       "20    2001       1  ...           0            0           0            0   \n",
       "76    2002       1  ...           0            0           0            0   \n",
       "102   2001       4  ...           0            0           0            1   \n",
       "121   2001       2  ...           0            0           0            0   \n",
       "135   2001       3  ...           0            0           0            0   \n",
       "\n",
       "     MAR12ABDEP  MARP12ABDEP  HER12ABDEP  HERP12ABDEP  OTHB12ABDEP  \\\n",
       "20            0            0           0            0            0   \n",
       "76            0            0           0            0            0   \n",
       "102           0            1           0            0            0   \n",
       "121           0            0           0            0            0   \n",
       "135           0            1           0            0            0   \n",
       "\n",
       "     OTHBP12ABDEP  \n",
       "20              0  \n",
       "76              0  \n",
       "102             0  \n",
       "121             0  \n",
       "135             0  \n",
       "\n",
       "[5 rows x 3008 columns]"
      ]
     },
     "execution_count": 6,
     "metadata": {},
     "output_type": "execute_result"
    }
   ],
   "source": [
    "sub1=data[(data['AGE']>18) & (data['AGE']<=25) & (data['CHECK321']==1)]\n",
    "sub1.head()"
   ]
  },
  {
   "cell_type": "code",
   "execution_count": 7,
   "metadata": {},
   "outputs": [
    {
     "name": "stdout",
     "output_type": "stream",
     "text": [
      "In the dataset, 3.6 percent of the respondents are between 18 and 25 in age, and smoked in the past year\n"
     ]
    }
   ],
   "source": [
    "print(\"In the dataset, %.1f percent of the respondents are between 18 and 25 in age, and smoked in the past year\" %(len(sub1)*100/len(data)))"
   ]
  },
  {
   "cell_type": "markdown",
   "metadata": {},
   "source": [
    "According to the Code Book that came with the data, `S3AQ3B1` has a value of 9 signifying 'unknown', and   \n",
    "`S3AQ3C1` has a value of 99 signifying 'unknown'.  \n",
    "We shown recode these to `NaN`"
   ]
  },
  {
   "cell_type": "code",
   "execution_count": 8,
   "metadata": {},
   "outputs": [],
   "source": [
    "sub1['S3AQ3B1'] = sub1['S3AQ3B1'].replace(9, np.nan)\n",
    "sub1['S3AQ3C1'] = sub1['S3AQ3C1'].replace(99, np.nan)"
   ]
  },
  {
   "attachments": {
    "image.png": {
     "image/png": "[encoded data removed]"
    }
   },
   "cell_type": "markdown",
   "metadata": {},
   "source": [
    "The feature `S3AQ3B1` - \"USUAL FREQUENCY WHEN SMOKED CIGARETTES\" - has the following coding\n",
    "![image.png](attachment:image.png)   \n",
    "We should recode it to get the number of days smoked per month, by averaging over the ranges specified above"
   ]
  },
  {
   "cell_type": "code",
   "execution_count": 9,
   "metadata": {},
   "outputs": [
    {
     "data": {
      "text/plain": [
       "dtype('float64')"
      ]
     },
     "execution_count": 9,
     "metadata": {},
     "output_type": "execute_result"
    }
   ],
   "source": [
    "recode = {1: 30, 2: 22, 3: 14, 4: 5, 5: 2.5, 6: 1}\n",
    "sub1['DaysSmokedPerMonth'] = sub1['S3AQ3B1'].map(recode)\n",
    "sub1['DaysSmokedPerMonth'].dtype"
   ]
  },
  {
   "cell_type": "markdown",
   "metadata": {},
   "source": [
    "We want the number of cigarettes smoked per month. So, we have to multiply `DaysSmokedPerMonth` by `S3AQ3C1`"
   ]
  },
  {
   "cell_type": "code",
   "execution_count": 10,
   "metadata": {},
   "outputs": [
    {
     "data": {
      "text/plain": [
       "dtype('float64')"
      ]
     },
     "execution_count": 10,
     "metadata": {},
     "output_type": "execute_result"
    }
   ],
   "source": [
    "sub1['CigsSmokedPerMonth'] = sub1['DaysSmokedPerMonth'] * sub1['S3AQ3C1']\n",
    "sub1['CigsSmokedPerMonth'].dtype"
   ]
  },
  {
   "cell_type": "markdown",
   "metadata": {},
   "source": [
    "The first categorical variable we will test whether `MAJORDEPLIFE` - \"MAJOR DEPRESSION - LIFETIME (NON-HIERARCHICAL)\" - impacts the number of cigarettes smoked per month. This is a binary variable (yes or no).    \n",
    "\n",
    "Since we are dealing with a binary variable, we only need to perform an `F-test` to test whether the average number of monthly cigarettes smoked is statistically different for someone who identifies as having major life depression or not. "
   ]
  },
  {
   "cell_type": "code",
   "execution_count": 11,
   "metadata": {},
   "outputs": [
    {
     "name": "stdout",
     "output_type": "stream",
     "text": [
      "                            OLS Regression Results                            \n",
      "==============================================================================\n",
      "Dep. Variable:     CigsSmokedPerMonth   R-squared:                       0.003\n",
      "Model:                            OLS   Adj. R-squared:                  0.002\n",
      "Method:                 Least Squares   F-statistic:                     4.609\n",
      "Date:                Fri, 31 Jul 2020   Prob (F-statistic):             0.0320\n",
      "Time:                        14:49:36   Log-Likelihood:                -10788.\n",
      "No. Observations:                1536   AIC:                         2.158e+04\n",
      "Df Residuals:                    1534   BIC:                         2.159e+04\n",
      "Df Model:                           1                                         \n",
      "Covariance Type:            nonrobust                                         \n",
      "========================================================================================\n",
      "                           coef    std err          t      P>|t|      [0.025      0.975]\n",
      "----------------------------------------------------------------------------------------\n",
      "Intercept              310.0896      8.054     38.500      0.000     294.291     325.888\n",
      "C(MAJORDEPLIFE)[T.1]    34.0112     15.843      2.147      0.032       2.935      65.087\n",
      "==============================================================================\n",
      "Omnibus:                      622.394   Durbin-Watson:                   1.970\n",
      "Prob(Omnibus):                  0.000   Jarque-Bera (JB):             5124.859\n",
      "Skew:                           1.674   Prob(JB):                         0.00\n",
      "Kurtosis:                      11.299   Cond. No.                         2.47\n",
      "==============================================================================\n",
      "\n",
      "Warnings:\n",
      "[1] Standard Errors assume that the covariance matrix of the errors is correctly specified.\n"
     ]
    }
   ],
   "source": [
    "model = smf.ols(formula = 'CigsSmokedPerMonth ~ C(MAJORDEPLIFE)', data = sub1)\n",
    "results = model.fit()\n",
    "print(results.summary())"
   ]
  },
  {
   "cell_type": "markdown",
   "metadata": {},
   "source": [
    "The `F-statistic` (>0.05) above suggests that that `MAJORDEPLIFE` has a statistically significant association with `CigsSmokedPerMonth`, for young adult smokers.  \n",
    "We can reject the Null Hypothesis.  \n",
    "To get more resolution on this effect we can print the means and standard deviations for the number of monthly cigarettes smoked by category."
   ]
  },
  {
   "cell_type": "code",
   "execution_count": 12,
   "metadata": {},
   "outputs": [
    {
     "name": "stdout",
     "output_type": "stream",
     "text": [
      "Mean cigarettes smoked per month\n",
      "              CigsSmokedPerMonth\n",
      "MAJORDEPLIFE                    \n",
      "0                     310.089552\n",
      "1                     344.100756\n"
     ]
    }
   ],
   "source": [
    "sub2 = sub1[['CigsSmokedPerMonth', 'MAJORDEPLIFE']].dropna()\n",
    "\n",
    "m = sub2.groupby('MAJORDEPLIFE').mean()\n",
    "print('Mean cigarettes smoked per month')\n",
    "print(m)"
   ]
  },
  {
   "cell_type": "code",
   "execution_count": 13,
   "metadata": {},
   "outputs": [
    {
     "name": "stdout",
     "output_type": "stream",
     "text": [
      "Standard deviation of cigarettes smoked per month\n",
      "              CigsSmokedPerMonth\n",
      "MAJORDEPLIFE                    \n",
      "0                     263.942017\n",
      "1                     293.310403\n"
     ]
    }
   ],
   "source": [
    "sd = sub2.groupby('MAJORDEPLIFE').std()\n",
    "print('Standard deviation of cigarettes smoked per month')\n",
    "print(sd)"
   ]
  },
  {
   "attachments": {
    "image.png": {
     "image/png": "[encoded data removed]"
    }
   },
   "cell_type": "markdown",
   "metadata": {},
   "source": [
    "### Now let's try a categrical variable with more than two categories (i.e. not binary)\n",
    "We will use the feature `ETHRACE2A` this time.  \n",
    "It has five (5) categories...  \n",
    "![image.png](attachment:image.png)"
   ]
  },
  {
   "cell_type": "code",
   "execution_count": 14,
   "metadata": {},
   "outputs": [],
   "source": [
    "sub3 = sub1[['CigsSmokedPerMonth','ETHRACE2A']].dropna()"
   ]
  },
  {
   "cell_type": "code",
   "execution_count": 15,
   "metadata": {},
   "outputs": [
    {
     "name": "stdout",
     "output_type": "stream",
     "text": [
      "                            OLS Regression Results                            \n",
      "==============================================================================\n",
      "Dep. Variable:     CigsSmokedPerMonth   R-squared:                       0.061\n",
      "Model:                            OLS   Adj. R-squared:                  0.058\n",
      "Method:                 Least Squares   F-statistic:                     24.70\n",
      "Date:                Fri, 31 Jul 2020   Prob (F-statistic):           7.65e-20\n",
      "Time:                        14:49:36   Log-Likelihood:                -10742.\n",
      "No. Observations:                1536   AIC:                         2.149e+04\n",
      "Df Residuals:                    1531   BIC:                         2.152e+04\n",
      "Df Model:                           4                                         \n",
      "Covariance Type:            nonrobust                                         \n",
      "=====================================================================================\n",
      "                        coef    std err          t      P>|t|      [0.025      0.975]\n",
      "-------------------------------------------------------------------------------------\n",
      "Intercept           368.1016      8.546     43.071      0.000     351.338     384.866\n",
      "C(ETHRACE2A)[T.2]   -99.7734     20.889     -4.776      0.000    -140.748     -58.799\n",
      "C(ETHRACE2A)[T.3]   -37.5599     44.841     -0.838      0.402    -125.516      50.396\n",
      "C(ETHRACE2A)[T.4]  -126.3957     37.958     -3.330      0.001    -200.851     -51.941\n",
      "C(ETHRACE2A)[T.5]  -161.0900     17.436     -9.239      0.000    -195.291    -126.889\n",
      "==============================================================================\n",
      "Omnibus:                      660.768   Durbin-Watson:                   1.975\n",
      "Prob(Omnibus):                  0.000   Jarque-Bera (JB):             6821.993\n",
      "Skew:                           1.723   Prob(JB):                         0.00\n",
      "Kurtosis:                      12.732   Cond. No.                         6.90\n",
      "==============================================================================\n",
      "\n",
      "Warnings:\n",
      "[1] Standard Errors assume that the covariance matrix of the errors is correctly specified.\n"
     ]
    }
   ],
   "source": [
    "model2 = smf.ols(formula='CigsSmokedPerMonth ~ C(ETHRACE2A)', data=sub3).fit()\n",
    "print(model2.summary())"
   ]
  },
  {
   "cell_type": "markdown",
   "metadata": {},
   "source": [
    "The model has chosen the first `ETHRACE2A` category value (\"1. White, Not Hispanic or Latino\") as the reference value.  \n",
    "\n",
    "The `F-statistic` (>0.05) above suggests that that `ETHRACE2A` has a statistically significant association with `CigsSmokedPerMonth`, for young adult smokers.  \n",
    "We can reject the Null Hypothesis. "
   ]
  },
  {
   "cell_type": "code",
   "execution_count": 16,
   "metadata": {},
   "outputs": [
    {
     "name": "stdout",
     "output_type": "stream",
     "text": [
      "Mean cigarettes smoked per month\n",
      "           CigsSmokedPerMonth\n",
      "ETHRACE2A                    \n",
      "1                  368.101571\n",
      "2                  268.328125\n",
      "3                  330.541667\n",
      "4                  241.705882\n",
      "5                  207.011589\n"
     ]
    }
   ],
   "source": [
    "m2 = sub3.groupby('ETHRACE2A').mean()\n",
    "print('Mean cigarettes smoked per month')\n",
    "print(m2)"
   ]
  },
  {
   "cell_type": "code",
   "execution_count": 17,
   "metadata": {},
   "outputs": [
    {
     "name": "stdout",
     "output_type": "stream",
     "text": [
      "Mean cigarettes smoked per month\n",
      "           CigsSmokedPerMonth\n",
      "ETHRACE2A                    \n",
      "1                  278.096760\n",
      "2                  286.929624\n",
      "3                  269.974638\n",
      "4                  198.243693\n",
      "5                  206.010303\n"
     ]
    }
   ],
   "source": [
    "sd2 = sub3.groupby('ETHRACE2A').std()\n",
    "print('Mean cigarettes smoked per month')\n",
    "print(sd2)"
   ]
  },
  {
   "cell_type": "markdown",
   "metadata": {},
   "source": [
    "We know, based on the above test, that there is one or more statistically significant differences between two or more of the category means. Now we need to perform a post-hoc test to figure out just where they are...\n",
    "\n",
    "We will perform the `Tukey's Honestly Significant Difference Test`"
   ]
  },
  {
   "cell_type": "code",
   "execution_count": 18,
   "metadata": {},
   "outputs": [],
   "source": [
    "import statsmodels.stats.multicomp as multi"
   ]
  },
  {
   "cell_type": "code",
   "execution_count": 19,
   "metadata": {},
   "outputs": [
    {
     "name": "stdout",
     "output_type": "stream",
     "text": [
      "   Multiple Comparison of Means - Tukey HSD, FWER=0.05   \n",
      "=========================================================\n",
      "group1 group2  meandiff p-adj    lower     upper   reject\n",
      "---------------------------------------------------------\n",
      "     1      2  -99.7734  0.001 -156.8219   -42.725   True\n",
      "     1      3  -37.5599    0.9  -160.021   84.9012  False\n",
      "     1      4 -126.3957 0.0079 -230.0593  -22.7321   True\n",
      "     1      5   -161.09  0.001 -208.7086 -113.4714   True\n",
      "     2      3   62.2135 0.6694   -68.789  193.2161  False\n",
      "     2      4  -26.6222    0.9 -140.2493   87.0048  False\n",
      "     2      5  -61.3165 0.0876 -127.8934    5.2604  False\n",
      "     3      4  -88.8358 0.5286 -245.8494   68.1779  False\n",
      "     3      5 -123.5301 0.0618 -250.7098    3.6496  False\n",
      "     4      5  -34.6943    0.9 -143.8919   74.5033  False\n",
      "---------------------------------------------------------\n"
     ]
    }
   ],
   "source": [
    "mc = multi.MultiComparison(sub3['CigsSmokedPerMonth'], sub3['ETHRACE2A'])\n",
    "res = mc.tukeyhsd()\n",
    "print(res.summary())"
   ]
  },
  {
   "cell_type": "markdown",
   "metadata": {},
   "source": [
    "Above we can see in the `reject` column the mean comparisons for which we can reject the Null Hypothesis.\n",
    "It suggests that:\n",
    "- Black young adults smoke fewer cigarettes than white young adults\n",
    "- Asian/Native Hawaiian/Pacific Islander young adults smoke fewer cigarettes than white young adults\n",
    "- Hispanic or Latino young adults smoke fewer cigarettes that white young adults\n",
    "\n",
    "The other comparisons cannot be confirmed either way using this test."
   ]
  }
 ],
 "metadata": {
  "kernelspec": {
   "display_name": "Python 3",
   "language": "python",
   "name": "python3"
  },
  "language_info": {
   "codemirror_mode": {
    "name": "ipython",
    "version": 3
   },
   "file_extension": ".py",
   "mimetype": "text/x-python",
   "name": "python",
   "nbconvert_exporter": "python",
   "pygments_lexer": "ipython3",
   "version": "3.7.6"
  }
 },
 "nbformat": 4,
 "nbformat_minor": 4
}
